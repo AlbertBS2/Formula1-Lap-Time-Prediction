{
 "cells": [
  {
   "cell_type": "code",
   "execution_count": 1,
   "metadata": {},
   "outputs": [],
   "source": [
    "import pandas as pd\n",
    "import numpy as np\n",
    "import matplotlib.pyplot as plt\n",
    "from catboost import CatBoostRegressor\n",
    "from sklearn.model_selection import train_test_split, RandomizedSearchCV"
   ]
  },
  {
   "cell_type": "code",
   "execution_count": 2,
   "metadata": {},
   "outputs": [],
   "source": [
    "# Load the dataset\n",
    "dataset = pd.read_csv('data/train.csv')"
   ]
  },
  {
   "cell_type": "code",
   "execution_count": 3,
   "metadata": {},
   "outputs": [
    {
     "data": {
      "text/html": [
       "<div>\n",
       "<style scoped>\n",
       "    .dataframe tbody tr th:only-of-type {\n",
       "        vertical-align: middle;\n",
       "    }\n",
       "\n",
       "    .dataframe tbody tr th {\n",
       "        vertical-align: top;\n",
       "    }\n",
       "\n",
       "    .dataframe thead th {\n",
       "        text-align: right;\n",
       "    }\n",
       "</style>\n",
       "<table border=\"1\" class=\"dataframe\">\n",
       "  <thead>\n",
       "    <tr style=\"text-align: right;\">\n",
       "      <th></th>\n",
       "      <th>id</th>\n",
       "      <th>race</th>\n",
       "      <th>date</th>\n",
       "      <th>time</th>\n",
       "      <th>circuit</th>\n",
       "      <th>latitude</th>\n",
       "      <th>longitude</th>\n",
       "      <th>altitude</th>\n",
       "      <th>driver</th>\n",
       "      <th>carNumber</th>\n",
       "      <th>constructor</th>\n",
       "      <th>avgDriverFinish</th>\n",
       "      <th>avgConstructorFinish</th>\n",
       "      <th>lapNumber</th>\n",
       "      <th>lapPosition</th>\n",
       "      <th>pitStop</th>\n",
       "      <th>pitCount</th>\n",
       "      <th>pitTime_ms</th>\n",
       "      <th>lapTime_ms</th>\n",
       "    </tr>\n",
       "  </thead>\n",
       "  <tbody>\n",
       "    <tr>\n",
       "      <th>29995</th>\n",
       "      <td>29996</td>\n",
       "      <td>Azerbaijan Grand Prix</td>\n",
       "      <td>2021-06-06</td>\n",
       "      <td>12:00:00</td>\n",
       "      <td>Baku City Circuit</td>\n",
       "      <td>40.3725</td>\n",
       "      <td>49.85330</td>\n",
       "      <td>-7</td>\n",
       "      <td>Alonso, Fernando</td>\n",
       "      <td>14</td>\n",
       "      <td>Alpine F1 Team</td>\n",
       "      <td>7.448925</td>\n",
       "      <td>5.303571</td>\n",
       "      <td>39</td>\n",
       "      <td>11</td>\n",
       "      <td>0</td>\n",
       "      <td>2</td>\n",
       "      <td>0.0</td>\n",
       "      <td>106314</td>\n",
       "    </tr>\n",
       "    <tr>\n",
       "      <th>29996</th>\n",
       "      <td>29997</td>\n",
       "      <td>Chinese Grand Prix</td>\n",
       "      <td>2016-04-17</td>\n",
       "      <td>06:00:00</td>\n",
       "      <td>Shanghai International Circuit</td>\n",
       "      <td>31.3389</td>\n",
       "      <td>121.22000</td>\n",
       "      <td>5</td>\n",
       "      <td>Rosberg, Nico</td>\n",
       "      <td>6</td>\n",
       "      <td>Mercedes</td>\n",
       "      <td>6.766990</td>\n",
       "      <td>2.199262</td>\n",
       "      <td>53</td>\n",
       "      <td>1</td>\n",
       "      <td>0</td>\n",
       "      <td>2</td>\n",
       "      <td>0.0</td>\n",
       "      <td>100814</td>\n",
       "    </tr>\n",
       "    <tr>\n",
       "      <th>29997</th>\n",
       "      <td>29998</td>\n",
       "      <td>European Grand Prix</td>\n",
       "      <td>2002-06-23</td>\n",
       "      <td>NaN</td>\n",
       "      <td>Nürburgring</td>\n",
       "      <td>50.3356</td>\n",
       "      <td>6.94750</td>\n",
       "      <td>578</td>\n",
       "      <td>Trulli, Jarno</td>\n",
       "      <td>14</td>\n",
       "      <td>Renault</td>\n",
       "      <td>11.580000</td>\n",
       "      <td>5.199507</td>\n",
       "      <td>40</td>\n",
       "      <td>6</td>\n",
       "      <td>0</td>\n",
       "      <td>0</td>\n",
       "      <td>0.0</td>\n",
       "      <td>95675</td>\n",
       "    </tr>\n",
       "    <tr>\n",
       "      <th>29998</th>\n",
       "      <td>29999</td>\n",
       "      <td>United States Grand Prix</td>\n",
       "      <td>2014-11-02</td>\n",
       "      <td>20:00:00</td>\n",
       "      <td>Circuit of the Americas</td>\n",
       "      <td>30.1328</td>\n",
       "      <td>-97.64110</td>\n",
       "      <td>161</td>\n",
       "      <td>Rosberg, Nico</td>\n",
       "      <td>6</td>\n",
       "      <td>Mercedes</td>\n",
       "      <td>6.766990</td>\n",
       "      <td>2.199262</td>\n",
       "      <td>13</td>\n",
       "      <td>1</td>\n",
       "      <td>0</td>\n",
       "      <td>0</td>\n",
       "      <td>0.0</td>\n",
       "      <td>104406</td>\n",
       "    </tr>\n",
       "    <tr>\n",
       "      <th>29999</th>\n",
       "      <td>30000</td>\n",
       "      <td>Italian Grand Prix</td>\n",
       "      <td>1997-09-07</td>\n",
       "      <td>NaN</td>\n",
       "      <td>Autodromo Nazionale di Monza</td>\n",
       "      <td>45.6156</td>\n",
       "      <td>9.28111</td>\n",
       "      <td>162</td>\n",
       "      <td>Schumacher, Michael</td>\n",
       "      <td>5</td>\n",
       "      <td>Ferrari</td>\n",
       "      <td>4.325879</td>\n",
       "      <td>2.833984</td>\n",
       "      <td>16</td>\n",
       "      <td>7</td>\n",
       "      <td>0</td>\n",
       "      <td>0</td>\n",
       "      <td>0.0</td>\n",
       "      <td>87347</td>\n",
       "    </tr>\n",
       "  </tbody>\n",
       "</table>\n",
       "</div>"
      ],
      "text/plain": [
       "          id                      race        date      time  \\\n",
       "29995  29996     Azerbaijan Grand Prix  2021-06-06  12:00:00   \n",
       "29996  29997        Chinese Grand Prix  2016-04-17  06:00:00   \n",
       "29997  29998       European Grand Prix  2002-06-23       NaN   \n",
       "29998  29999  United States Grand Prix  2014-11-02  20:00:00   \n",
       "29999  30000        Italian Grand Prix  1997-09-07       NaN   \n",
       "\n",
       "                              circuit  latitude  longitude  altitude  \\\n",
       "29995               Baku City Circuit   40.3725   49.85330        -7   \n",
       "29996  Shanghai International Circuit   31.3389  121.22000         5   \n",
       "29997                     Nürburgring   50.3356    6.94750       578   \n",
       "29998         Circuit of the Americas   30.1328  -97.64110       161   \n",
       "29999    Autodromo Nazionale di Monza   45.6156    9.28111       162   \n",
       "\n",
       "                    driver  carNumber     constructor  avgDriverFinish  \\\n",
       "29995     Alonso, Fernando         14  Alpine F1 Team         7.448925   \n",
       "29996        Rosberg, Nico          6        Mercedes         6.766990   \n",
       "29997        Trulli, Jarno         14         Renault        11.580000   \n",
       "29998        Rosberg, Nico          6        Mercedes         6.766990   \n",
       "29999  Schumacher, Michael          5         Ferrari         4.325879   \n",
       "\n",
       "       avgConstructorFinish  lapNumber  lapPosition  pitStop  pitCount  \\\n",
       "29995              5.303571         39           11        0         2   \n",
       "29996              2.199262         53            1        0         2   \n",
       "29997              5.199507         40            6        0         0   \n",
       "29998              2.199262         13            1        0         0   \n",
       "29999              2.833984         16            7        0         0   \n",
       "\n",
       "       pitTime_ms  lapTime_ms  \n",
       "29995         0.0      106314  \n",
       "29996         0.0      100814  \n",
       "29997         0.0       95675  \n",
       "29998         0.0      104406  \n",
       "29999         0.0       87347  "
      ]
     },
     "execution_count": 3,
     "metadata": {},
     "output_type": "execute_result"
    }
   ],
   "source": [
    "dataset.tail()"
   ]
  },
  {
   "cell_type": "code",
   "execution_count": 4,
   "metadata": {},
   "outputs": [],
   "source": [
    "dataset.drop(['id', 'race', 'carNumber'], axis=1, inplace=True)\n",
    "dataset['time'].fillna('NaN', inplace=True)"
   ]
  },
  {
   "cell_type": "markdown",
   "metadata": {},
   "source": [
    "#### Separating the features and the target"
   ]
  },
  {
   "cell_type": "code",
   "execution_count": 5,
   "metadata": {},
   "outputs": [],
   "source": [
    "# Separate the features and the target\n",
    "X = dataset.drop('lapTime_ms', axis=1)\n",
    "y = dataset['lapTime_ms']"
   ]
  },
  {
   "cell_type": "markdown",
   "metadata": {},
   "source": [
    "#### Splitting the dataset into train and test data"
   ]
  },
  {
   "cell_type": "code",
   "execution_count": 10,
   "metadata": {},
   "outputs": [],
   "source": [
    "# Split the dataset into training (80%) and testing (20%) sets\n",
    "train_dataset = dataset.sample(frac=0.8, random_state=0)\n",
    "test_dataset = dataset.drop(train_dataset.index)\n",
    "\n",
    "X_train = train_dataset.copy()\n",
    "X_test = test_dataset.copy()\n",
    "\n",
    "y_train = X_train.pop(\"lapTime_ms\")\n",
    "y_test = X_test.pop(\"lapTime_ms\")"
   ]
  },
  {
   "cell_type": "markdown",
   "metadata": {},
   "source": [
    "#### Defining an initial model"
   ]
  },
  {
   "cell_type": "code",
   "execution_count": 7,
   "metadata": {},
   "outputs": [
    {
     "name": "stdout",
     "output_type": "stream",
     "text": [
      "0:\tlearn: 61502.2932586\ttest: 66474.6249575\tbest: 66474.6249575 (0)\ttotal: 216ms\tremaining: 3m 35s\n",
      "100:\tlearn: 13255.8864192\ttest: 19319.8242333\tbest: 19319.8242333 (100)\ttotal: 5.75s\tremaining: 51.2s\n",
      "200:\tlearn: 6362.9451158\ttest: 14753.8650140\tbest: 14753.8650140 (200)\ttotal: 11.4s\tremaining: 45.4s\n",
      "300:\tlearn: 5101.6632222\ttest: 14205.6882013\tbest: 14205.6882013 (300)\ttotal: 17.2s\tremaining: 40s\n",
      "400:\tlearn: 4551.1862652\ttest: 14009.4656818\tbest: 14009.4656818 (400)\ttotal: 23s\tremaining: 34.3s\n",
      "500:\tlearn: 4223.9731617\ttest: 13925.6248470\tbest: 13925.6248470 (500)\ttotal: 28.7s\tremaining: 28.6s\n",
      "600:\tlearn: 3961.3730954\ttest: 13891.7957321\tbest: 13891.7773718 (599)\ttotal: 34.5s\tremaining: 22.9s\n",
      "700:\tlearn: 3761.1889909\ttest: 13874.8755644\tbest: 13874.3902854 (699)\ttotal: 40.3s\tremaining: 17.2s\n",
      "800:\tlearn: 3576.1852271\ttest: 13847.9993870\tbest: 13847.2650493 (795)\ttotal: 46.8s\tremaining: 11.6s\n",
      "900:\tlearn: 3408.2373954\ttest: 13829.8867077\tbest: 13829.6954145 (898)\ttotal: 52.6s\tremaining: 5.78s\n",
      "999:\tlearn: 3276.4629064\ttest: 13826.5058068\tbest: 13824.3718599 (971)\ttotal: 58.4s\tremaining: 0us\n",
      "\n",
      "bestTest = 13824.37186\n",
      "bestIteration = 971\n",
      "\n",
      "Shrink model to first 972 iterations.\n"
     ]
    }
   ],
   "source": [
    "# Define the model\n",
    "init_model = CatBoostRegressor(\n",
    "    iterations=1000,\n",
    "    learning_rate=0.1,\n",
    "    depth=10,\n",
    "    loss_function='RMSE',\n",
    "    random_seed=42,\n",
    "    cat_features=['date', 'time', 'circuit', 'driver', 'constructor', 'pitStop']\n",
    ")\n",
    "\n",
    "# Train the model\n",
    "init_model.fit(\n",
    "    X_train,\n",
    "    y_train,\n",
    "    eval_set=(X_test, y_test),\n",
    "    verbose=100,\n",
    "    early_stopping_rounds=50\n",
    ")\n",
    "\n",
    "# Save the model\n",
    "init_model.save_model('models/init_model.cbm')"
   ]
  },
  {
   "cell_type": "markdown",
   "metadata": {},
   "source": [
    "#### Finding the optimal parameters for the model"
   ]
  },
  {
   "cell_type": "code",
   "execution_count": null,
   "metadata": {},
   "outputs": [],
   "source": [
    "# Define the parameter grid\n",
    "param_grid = {\n",
    "    'iterations': [500, 1000, 1500],        # number of trees\n",
    "    'learning_rate': [0.01, 0.05, 0.1],     # step size of each iteration\n",
    "    'depth': [6, 8, 10]                     # depth of each tree\n",
    "}\n",
    "\n",
    "# Create the model\n",
    "model = CatBoostRegressor(\n",
    "    loss_function='RMSE',\n",
    "    random_seed=42,\n",
    "    cat_features=['date', 'time', 'circuit', 'driver', 'constructor', 'pitStop']\n",
    ")\n",
    "\n",
    "# Find the optimal parameters\n",
    "random_search = RandomizedSearchCV(\n",
    "    model,\n",
    "    param_distributions=param_grid,\n",
    "    n_iter=5,\n",
    "    cv=2,\n",
    "    scoring='neg_root_mean_squared_error',\n",
    "    verbose=1,\n",
    "    random_state=42\n",
    ")\n",
    "\n",
    "random_search.fit(X, y)"
   ]
  },
  {
   "cell_type": "markdown",
   "metadata": {},
   "source": [
    "#### Defining a new model with the optimal parameters found"
   ]
  },
  {
   "cell_type": "code",
   "execution_count": 9,
   "metadata": {},
   "outputs": [
    {
     "name": "stdout",
     "output_type": "stream",
     "text": [
      "Best parameters found:  {'learning_rate': 0.05, 'iterations': 1000, 'depth': 8}\n"
     ]
    }
   ],
   "source": [
    "opt_model = random_search.best_estimator_\n",
    "opt_model.save_model('models/opt_model.cbm')\n",
    "print(\"Best parameters found: \", random_search.best_params_)"
   ]
  },
  {
   "cell_type": "markdown",
   "metadata": {},
   "source": [
    "#### Adding extra features to try improve the model performance"
   ]
  },
  {
   "cell_type": "code",
   "execution_count": 7,
   "metadata": {},
   "outputs": [],
   "source": [
    "# Add a new feature containing the total laps of the specific race the lap belongs to\n",
    "#dataset['total_laps'] = dataset.groupby(['circuit', 'date'])['lapNumber'].transform('max')\n",
    "\n",
    "# Add if the lap is the last lap or the first lap\n",
    "dataset['last_lap'] = np.where((dataset['lapNumber'] == dataset.groupby(['circuit', 'date'])['lapNumber'].transform('max')), 1, 0)\n",
    "dataset['first_lap'] = np.where((dataset['lapNumber'] == 1), 1, 0)"
   ]
  },
  {
   "cell_type": "code",
   "execution_count": 8,
   "metadata": {},
   "outputs": [],
   "source": [
    "# Separate the features and the target\n",
    "X = dataset.drop('lapTime_ms', axis=1)\n",
    "y = dataset['lapTime_ms']"
   ]
  },
  {
   "cell_type": "code",
   "execution_count": null,
   "metadata": {},
   "outputs": [],
   "source": [
    "# Define the parameter grid\n",
    "param_grid = {\n",
    "    'iterations': [500, 1000, 1500],        # number of trees\n",
    "    'learning_rate': [0.01, 0.05, 0.1],     # step size of each iteration\n",
    "    'depth': [6, 8, 10]                     # depth of each tree\n",
    "}\n",
    "\n",
    "# Create the model\n",
    "model = CatBoostRegressor(\n",
    "    loss_function='RMSE',\n",
    "    random_seed=42,\n",
    "    cat_features=['date', 'time', 'circuit', 'driver', 'constructor', 'pitStop']\n",
    ")\n",
    "\n",
    "# Find the optimal parameters\n",
    "random_search = RandomizedSearchCV(\n",
    "    model,\n",
    "    param_distributions=param_grid,\n",
    "    n_iter=5,\n",
    "    cv=2,\n",
    "    scoring='neg_root_mean_squared_error',\n",
    "    verbose=1,\n",
    "    random_state=42\n",
    ")\n",
    "\n",
    "random_search.fit(X, y)"
   ]
  },
  {
   "cell_type": "code",
   "execution_count": 100,
   "metadata": {},
   "outputs": [
    {
     "name": "stdout",
     "output_type": "stream",
     "text": [
      "Best parameters found:  {'learning_rate': 0.1, 'iterations': 1500, 'depth': 6}\n"
     ]
    }
   ],
   "source": [
    "third_model = random_search.best_estimator_\n",
    "third_model.save_model('models/third_model.cbm')\n",
    "print(\"Best parameters found: \", random_search.best_params_)"
   ]
  },
  {
   "cell_type": "markdown",
   "metadata": {},
   "source": [
    "#### Loading the models"
   ]
  },
  {
   "cell_type": "code",
   "execution_count": 9,
   "metadata": {},
   "outputs": [
    {
     "data": {
      "text/plain": [
       "<catboost.core.CatBoostRegressor at 0x2002d016710>"
      ]
     },
     "execution_count": 9,
     "metadata": {},
     "output_type": "execute_result"
    }
   ],
   "source": [
    "# Initial model\n",
    "init_model = CatBoostRegressor()\n",
    "init_model.load_model('models/init_model.cbm')\n",
    "\n",
    "# Optimized model\n",
    "opt_model = CatBoostRegressor()\n",
    "opt_model.load_model('models/opt_model.cbm')\n",
    "\n",
    "# Third model\n",
    "third_model = CatBoostRegressor()\n",
    "third_model.load_model('models/third_model.cbm')"
   ]
  },
  {
   "cell_type": "markdown",
   "metadata": {},
   "source": [
    "#### Comparing predictions obtained for the train dataset with both models"
   ]
  },
  {
   "cell_type": "code",
   "execution_count": 11,
   "metadata": {},
   "outputs": [],
   "source": [
    "train_pred_init = init_model.predict(X_train)\n",
    "\n",
    "train_pred_opt = opt_model.predict(X_train)\n",
    "\n",
    "train_pred_third = third_model.predict(X_train)"
   ]
  },
  {
   "cell_type": "code",
   "execution_count": 12,
   "metadata": {},
   "outputs": [
    {
     "data": {
      "image/png": "[encoded data removed]",
      "text/plain": [
       "<Figure size 640x480 with 1 Axes>"
      ]
     },
     "metadata": {},
     "output_type": "display_data"
    },
    {
     "name": "stdout",
     "output_type": "stream",
     "text": [
      "RMSE on train data w/ initial model:  4205.978212222453\n",
      "RMSE on train data w/ optimized model:  5615.948203714428\n",
      "RMSE on train data w/ third model:  4540.047379910267\n",
      "Accuracy on train data w/ initial model:  0.995506795485806\n",
      "Accuracy on train data w/ optimized model:  0.9919893393114323\n",
      "Accuracy on train data w/ third model:  0.9947646837695572\n"
     ]
    }
   ],
   "source": [
    "plt.plot(y_train.to_numpy(), 'o', label='Train Data', alpha=0.5)\n",
    "plt.plot(train_pred_init, 'o', label='Predicted w/ initial model', alpha=0.5)\n",
    "plt.plot(train_pred_opt, 'o', label='Predicted w/ optimized model', alpha=0.5)\n",
    "plt.plot(train_pred_third, 'o', label='Predicted w/ third model', alpha=0.5)\n",
    "plt.xlabel('Sample')\n",
    "plt.ylabel('lapTime_ms')\n",
    "plt.legend()\n",
    "plt.show()\n",
    "\n",
    "print(\"RMSE on train data w/ initial model: \", np.sqrt(np.mean((train_pred_init - y_train) ** 2)))\n",
    "print(\"RMSE on train data w/ optimized model: \", np.sqrt(np.mean((train_pred_opt - y_train) ** 2)))\n",
    "print(\"RMSE on train data w/ third model: \", np.sqrt(np.mean((train_pred_third - y_train) ** 2)))\n",
    "\n",
    "print(\"Accuracy on train data w/ initial model: \", init_model.score(X_train, y_train))\n",
    "print(\"Accuracy on train data w/ optimized model: \", opt_model.score(X_train, y_train))\n",
    "print(\"Accuracy on train data w/ third model: \", third_model.score(X_train, y_train))"
   ]
  },
  {
   "cell_type": "markdown",
   "metadata": {},
   "source": [
    "#### Comparing predictions obtained for the test dataset with both models"
   ]
  },
  {
   "cell_type": "code",
   "execution_count": 13,
   "metadata": {},
   "outputs": [],
   "source": [
    "test_pred_init = init_model.predict(X_test)\n",
    "test_pred_opt = opt_model.predict(X_test)\n",
    "test_pred_third = third_model.predict(X_test)"
   ]
  },
  {
   "cell_type": "code",
   "execution_count": 14,
   "metadata": {},
   "outputs": [
    {
     "data": {
      "image/png": "[encoded data removed]",
      "text/plain": [
       "<Figure size 640x480 with 1 Axes>"
      ]
     },
     "metadata": {},
     "output_type": "display_data"
    },
    {
     "name": "stdout",
     "output_type": "stream",
     "text": [
      "RMSE on test data w/ initial model:  13824.37185987869\n",
      "RMSE on test data 1 w/ optimized model:  4812.370542361958\n",
      "RMSE on test data w/ third model:  4270.428064119288\n",
      "Accuracy on test data w/ initial model:  0.9582190928757643\n",
      "Accuracy on test data w/ optimized model:  0.9949370321490093\n",
      "Accuracy on test data w/ third model:  0.9960131502285458\n"
     ]
    }
   ],
   "source": [
    "plt.plot(y_test.to_numpy(), 'o', label='Test Data', alpha=0.5)\n",
    "plt.plot(test_pred_init, 'o', label='Predicted w/ initial model', alpha=0.5)\n",
    "plt.plot(test_pred_opt, 'o', label='Predicted w/ optimized model', alpha=0.5)\n",
    "plt.plot(test_pred_third, 'o', label='Predicted w/ third model', alpha=0.5)\n",
    "plt.xlabel('Sample')\n",
    "plt.ylabel('lapTime_ms')\n",
    "plt.legend()\n",
    "plt.show()\n",
    "\n",
    "print(\"RMSE on test data w/ initial model: \", np.sqrt(np.mean((test_pred_init - y_test) ** 2)))\n",
    "print(\"RMSE on test data 1 w/ optimized model: \", np.sqrt(np.mean((test_pred_opt - y_test) ** 2)))\n",
    "print(\"RMSE on test data w/ third model: \", np.sqrt(np.mean((test_pred_third - y_test) ** 2)))\n",
    "\n",
    "print(\"Accuracy on test data w/ initial model: \", init_model.score(X_test, y_test))\n",
    "print(\"Accuracy on test data w/ optimized model: \", opt_model.score(X_test, y_test))\n",
    "print(\"Accuracy on test data w/ third model: \", third_model.score(X_test, y_test))"
   ]
  },
  {
   "cell_type": "markdown",
   "metadata": {},
   "source": [
    "#### Loading an evaluation (unseen) dataset"
   ]
  },
  {
   "cell_type": "code",
   "execution_count": 15,
   "metadata": {},
   "outputs": [],
   "source": [
    "# Load the evaluation dataset\n",
    "dataset_eval = pd.read_csv('data/test.csv')"
   ]
  },
  {
   "cell_type": "code",
   "execution_count": 16,
   "metadata": {},
   "outputs": [],
   "source": [
    "df_eval = dataset_eval.drop(['id', 'race', 'carNumber'], axis=1)\n",
    "df_eval['time'].fillna('NaN', inplace=True)\n",
    "\n",
    "# Add if the lap is the last lap or the first lap\n",
    "df_eval_third = df_eval.copy()\n",
    "df_eval_third['last_lap'] = np.where((df_eval_third['lapNumber'] == df_eval_third.groupby(['circuit', 'date'])['lapNumber'].transform('max')), 1, 0)\n",
    "df_eval_third['first_lap'] = np.where((df_eval_third['lapNumber'] == 1), 1, 0)"
   ]
  },
  {
   "cell_type": "markdown",
   "metadata": {},
   "source": [
    "#### Obtaining predictions for the evaluation dataset with both models"
   ]
  },
  {
   "cell_type": "code",
   "execution_count": 17,
   "metadata": {},
   "outputs": [],
   "source": [
    "eval_pred_init = init_model.predict(df_eval)\n",
    "eval_pred_opt = opt_model.predict(df_eval)\n",
    "eval_pred_third = third_model.predict(df_eval_third)"
   ]
  },
  {
   "cell_type": "code",
   "execution_count": 18,
   "metadata": {},
   "outputs": [],
   "source": [
    "df_results_init = pd.DataFrame(dataset_eval['id'], columns=['id'])\n",
    "df_results_init['lapTime_ms'] = eval_pred_init\n",
    "\n",
    "df_results_opt = pd.DataFrame(dataset_eval['id'], columns=['id'])\n",
    "df_results_opt['lapTime_ms'] = eval_pred_opt\n",
    "\n",
    "df_results_third = pd.DataFrame(dataset_eval['id'], columns=['id'])\n",
    "df_results_third['lapTime_ms'] = eval_pred_third"
   ]
  },
  {
   "cell_type": "code",
   "execution_count": 19,
   "metadata": {},
   "outputs": [],
   "source": [
    "# Save the results obtained with both models\n",
    "df_results_init.to_csv('results/results_init.csv', index=False)\n",
    "df_results_opt.to_csv('results/results_opt.csv', index=False)\n",
    "df_results_third.to_csv('results/results_third.csv', index=False)"
   ]
  }
 ],
 "metadata": {
  "kernelspec": {
   "display_name": "Python 3",
   "language": "python",
   "name": "python3"
  },
  "language_info": {
   "codemirror_mode": {
    "name": "ipython",
    "version": 3
   },
   "file_extension": ".py",
   "mimetype": "text/x-python",
   "name": "python",
   "nbconvert_exporter": "python",
   "pygments_lexer": "ipython3",
   "version": "3.11.2"
  }
 },
 "nbformat": 4,
 "nbformat_minor": 2
}
