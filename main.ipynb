{
 "cells": [
  {
   "cell_type": "code",
   "execution_count": 1,
   "metadata": {},
   "outputs": [],
   "source": [
    "import pandas as pd\n",
    "import numpy as np\n",
    "import matplotlib.pyplot as plt\n",
    "import seaborn as sns\n",
    "from catboost import CatBoostRegressor, Pool\n",
    "from sklearn.model_selection import train_test_split"
   ]
  },
  {
   "cell_type": "code",
   "execution_count": 2,
   "metadata": {},
   "outputs": [],
   "source": [
    "dataset = pd.read_csv('data/train.csv')"
   ]
  },
  {
   "cell_type": "code",
   "execution_count": 3,
   "metadata": {},
   "outputs": [
    {
     "data": {
      "text/html": [
       "<div>\n",
       "<style scoped>\n",
       "    .dataframe tbody tr th:only-of-type {\n",
       "        vertical-align: middle;\n",
       "    }\n",
       "\n",
       "    .dataframe tbody tr th {\n",
       "        vertical-align: top;\n",
       "    }\n",
       "\n",
       "    .dataframe thead th {\n",
       "        text-align: right;\n",
       "    }\n",
       "</style>\n",
       "<table border=\"1\" class=\"dataframe\">\n",
       "  <thead>\n",
       "    <tr style=\"text-align: right;\">\n",
       "      <th></th>\n",
       "      <th>id</th>\n",
       "      <th>race</th>\n",
       "      <th>date</th>\n",
       "      <th>time</th>\n",
       "      <th>circuit</th>\n",
       "      <th>latitude</th>\n",
       "      <th>longitude</th>\n",
       "      <th>altitude</th>\n",
       "      <th>driver</th>\n",
       "      <th>carNumber</th>\n",
       "      <th>constructor</th>\n",
       "      <th>avgDriverFinish</th>\n",
       "      <th>avgConstructorFinish</th>\n",
       "      <th>lapNumber</th>\n",
       "      <th>lapPosition</th>\n",
       "      <th>pitStop</th>\n",
       "      <th>pitCount</th>\n",
       "      <th>pitTime_ms</th>\n",
       "      <th>lapTime_ms</th>\n",
       "    </tr>\n",
       "  </thead>\n",
       "  <tbody>\n",
       "    <tr>\n",
       "      <th>29995</th>\n",
       "      <td>29996</td>\n",
       "      <td>Azerbaijan Grand Prix</td>\n",
       "      <td>2021-06-06</td>\n",
       "      <td>12:00:00</td>\n",
       "      <td>Baku City Circuit</td>\n",
       "      <td>40.3725</td>\n",
       "      <td>49.85330</td>\n",
       "      <td>-7</td>\n",
       "      <td>Alonso, Fernando</td>\n",
       "      <td>14</td>\n",
       "      <td>Alpine F1 Team</td>\n",
       "      <td>7.448925</td>\n",
       "      <td>5.303571</td>\n",
       "      <td>39</td>\n",
       "      <td>11</td>\n",
       "      <td>0</td>\n",
       "      <td>2</td>\n",
       "      <td>0.0</td>\n",
       "      <td>106314</td>\n",
       "    </tr>\n",
       "    <tr>\n",
       "      <th>29996</th>\n",
       "      <td>29997</td>\n",
       "      <td>Chinese Grand Prix</td>\n",
       "      <td>2016-04-17</td>\n",
       "      <td>06:00:00</td>\n",
       "      <td>Shanghai International Circuit</td>\n",
       "      <td>31.3389</td>\n",
       "      <td>121.22000</td>\n",
       "      <td>5</td>\n",
       "      <td>Rosberg, Nico</td>\n",
       "      <td>6</td>\n",
       "      <td>Mercedes</td>\n",
       "      <td>6.766990</td>\n",
       "      <td>2.199262</td>\n",
       "      <td>53</td>\n",
       "      <td>1</td>\n",
       "      <td>0</td>\n",
       "      <td>2</td>\n",
       "      <td>0.0</td>\n",
       "      <td>100814</td>\n",
       "    </tr>\n",
       "    <tr>\n",
       "      <th>29997</th>\n",
       "      <td>29998</td>\n",
       "      <td>European Grand Prix</td>\n",
       "      <td>2002-06-23</td>\n",
       "      <td>NaN</td>\n",
       "      <td>Nürburgring</td>\n",
       "      <td>50.3356</td>\n",
       "      <td>6.94750</td>\n",
       "      <td>578</td>\n",
       "      <td>Trulli, Jarno</td>\n",
       "      <td>14</td>\n",
       "      <td>Renault</td>\n",
       "      <td>11.580000</td>\n",
       "      <td>5.199507</td>\n",
       "      <td>40</td>\n",
       "      <td>6</td>\n",
       "      <td>0</td>\n",
       "      <td>0</td>\n",
       "      <td>0.0</td>\n",
       "      <td>95675</td>\n",
       "    </tr>\n",
       "    <tr>\n",
       "      <th>29998</th>\n",
       "      <td>29999</td>\n",
       "      <td>United States Grand Prix</td>\n",
       "      <td>2014-11-02</td>\n",
       "      <td>20:00:00</td>\n",
       "      <td>Circuit of the Americas</td>\n",
       "      <td>30.1328</td>\n",
       "      <td>-97.64110</td>\n",
       "      <td>161</td>\n",
       "      <td>Rosberg, Nico</td>\n",
       "      <td>6</td>\n",
       "      <td>Mercedes</td>\n",
       "      <td>6.766990</td>\n",
       "      <td>2.199262</td>\n",
       "      <td>13</td>\n",
       "      <td>1</td>\n",
       "      <td>0</td>\n",
       "      <td>0</td>\n",
       "      <td>0.0</td>\n",
       "      <td>104406</td>\n",
       "    </tr>\n",
       "    <tr>\n",
       "      <th>29999</th>\n",
       "      <td>30000</td>\n",
       "      <td>Italian Grand Prix</td>\n",
       "      <td>1997-09-07</td>\n",
       "      <td>NaN</td>\n",
       "      <td>Autodromo Nazionale di Monza</td>\n",
       "      <td>45.6156</td>\n",
       "      <td>9.28111</td>\n",
       "      <td>162</td>\n",
       "      <td>Schumacher, Michael</td>\n",
       "      <td>5</td>\n",
       "      <td>Ferrari</td>\n",
       "      <td>4.325879</td>\n",
       "      <td>2.833984</td>\n",
       "      <td>16</td>\n",
       "      <td>7</td>\n",
       "      <td>0</td>\n",
       "      <td>0</td>\n",
       "      <td>0.0</td>\n",
       "      <td>87347</td>\n",
       "    </tr>\n",
       "  </tbody>\n",
       "</table>\n",
       "</div>"
      ],
      "text/plain": [
       "          id                      race        date      time  \\\n",
       "29995  29996     Azerbaijan Grand Prix  2021-06-06  12:00:00   \n",
       "29996  29997        Chinese Grand Prix  2016-04-17  06:00:00   \n",
       "29997  29998       European Grand Prix  2002-06-23       NaN   \n",
       "29998  29999  United States Grand Prix  2014-11-02  20:00:00   \n",
       "29999  30000        Italian Grand Prix  1997-09-07       NaN   \n",
       "\n",
       "                              circuit  latitude  longitude  altitude  \\\n",
       "29995               Baku City Circuit   40.3725   49.85330        -7   \n",
       "29996  Shanghai International Circuit   31.3389  121.22000         5   \n",
       "29997                     Nürburgring   50.3356    6.94750       578   \n",
       "29998         Circuit of the Americas   30.1328  -97.64110       161   \n",
       "29999    Autodromo Nazionale di Monza   45.6156    9.28111       162   \n",
       "\n",
       "                    driver  carNumber     constructor  avgDriverFinish  \\\n",
       "29995     Alonso, Fernando         14  Alpine F1 Team         7.448925   \n",
       "29996        Rosberg, Nico          6        Mercedes         6.766990   \n",
       "29997        Trulli, Jarno         14         Renault        11.580000   \n",
       "29998        Rosberg, Nico          6        Mercedes         6.766990   \n",
       "29999  Schumacher, Michael          5         Ferrari         4.325879   \n",
       "\n",
       "       avgConstructorFinish  lapNumber  lapPosition  pitStop  pitCount  \\\n",
       "29995              5.303571         39           11        0         2   \n",
       "29996              2.199262         53            1        0         2   \n",
       "29997              5.199507         40            6        0         0   \n",
       "29998              2.199262         13            1        0         0   \n",
       "29999              2.833984         16            7        0         0   \n",
       "\n",
       "       pitTime_ms  lapTime_ms  \n",
       "29995         0.0      106314  \n",
       "29996         0.0      100814  \n",
       "29997         0.0       95675  \n",
       "29998         0.0      104406  \n",
       "29999         0.0       87347  "
      ]
     },
     "execution_count": 3,
     "metadata": {},
     "output_type": "execute_result"
    }
   ],
   "source": [
    "dataset.tail()"
   ]
  },
  {
   "cell_type": "code",
   "execution_count": 4,
   "metadata": {},
   "outputs": [],
   "source": [
    "dataset.drop(['id', 'race', 'carNumber'], axis=1, inplace=True)"
   ]
  },
  {
   "cell_type": "code",
   "execution_count": 5,
   "metadata": {},
   "outputs": [],
   "source": [
    "dataset['time'].fillna('NaN', inplace=True)"
   ]
  },
  {
   "cell_type": "code",
   "execution_count": 57,
   "metadata": {},
   "outputs": [],
   "source": [
    "X_train, X_test, y_train, y_test = train_test_split(dataset, dataset['lapTime_ms'], test_size=0.2, random_state=42)"
   ]
  },
  {
   "cell_type": "code",
   "execution_count": 6,
   "metadata": {},
   "outputs": [],
   "source": [
    "train_dataset = dataset.sample(frac=0.8, random_state=0)\n",
    "test_dataset = dataset.drop(train_dataset.index)"
   ]
  },
  {
   "cell_type": "code",
   "execution_count": 7,
   "metadata": {},
   "outputs": [],
   "source": [
    "train_features = train_dataset.copy()\n",
    "test_features = test_dataset.copy()\n",
    "\n",
    "train_labels = train_features.pop(\"lapTime_ms\")\n",
    "test_labels = test_features.pop(\"lapTime_ms\")"
   ]
  },
  {
   "cell_type": "code",
   "execution_count": 8,
   "metadata": {},
   "outputs": [
    {
     "name": "stdout",
     "output_type": "stream",
     "text": [
      "0:\tlearn: 62115.9872192\ttest: 67046.7440790\tbest: 67046.7440790 (0)\ttotal: 195ms\tremaining: 3m 15s\n",
      "100:\tlearn: 23990.1621589\ttest: 27708.4332793\tbest: 27708.4332793 (100)\ttotal: 5.91s\tremaining: 52.6s\n",
      "200:\tlearn: 11681.8101501\ttest: 13750.5430902\tbest: 13750.5430902 (200)\ttotal: 11s\tremaining: 43.6s\n",
      "300:\tlearn: 8011.7334226\ttest: 11476.6703435\tbest: 11476.6703435 (300)\ttotal: 16.5s\tremaining: 38.3s\n",
      "400:\tlearn: 6582.4016937\ttest: 10593.9320429\tbest: 10593.9320429 (400)\ttotal: 22.2s\tremaining: 33.2s\n",
      "500:\tlearn: 5722.3842835\ttest: 10157.0024246\tbest: 10157.0024246 (500)\ttotal: 28.1s\tremaining: 27.9s\n",
      "600:\tlearn: 5210.1817724\ttest: 9965.8204470\tbest: 9964.7771527 (597)\ttotal: 33.7s\tremaining: 22.4s\n",
      "700:\tlearn: 4870.8119225\ttest: 9848.6793944\tbest: 9848.6793944 (700)\ttotal: 39.2s\tremaining: 16.7s\n",
      "800:\tlearn: 4615.7268678\ttest: 9781.5946570\tbest: 9781.5946570 (800)\ttotal: 44.9s\tremaining: 11.2s\n",
      "900:\tlearn: 4398.5527034\ttest: 9713.4912046\tbest: 9713.4912046 (900)\ttotal: 50.6s\tremaining: 5.56s\n",
      "999:\tlearn: 4223.1780841\ttest: 9658.7398526\tbest: 9658.6214365 (995)\ttotal: 56.5s\tremaining: 0us\n",
      "\n",
      "bestTest = 9658.621436\n",
      "bestIteration = 995\n",
      "\n",
      "Shrink model to first 996 iterations.\n"
     ]
    },
    {
     "data": {
      "text/plain": [
       "<catboost.core.CatBoostRegressor at 0x1c0ede63390>"
      ]
     },
     "execution_count": 8,
     "metadata": {},
     "output_type": "execute_result"
    }
   ],
   "source": [
    "# Define the model\n",
    "model = CatBoostRegressor(\n",
    "    iterations=1000,\n",
    "    learning_rate=0.05,\n",
    "    depth=10,\n",
    "    loss_function='RMSE',\n",
    "    random_seed=42,\n",
    "    cat_features=['date', 'time', 'circuit', 'driver', 'constructor', 'pitStop']\n",
    ")\n",
    "\n",
    "# Train the model\n",
    "model.fit(\n",
    "    train_features,\n",
    "    train_labels,\n",
    "    eval_set=(test_features, test_labels),\n",
    "    verbose=100,\n",
    "    early_stopping_rounds=50\n",
    ")"
   ]
  },
  {
   "cell_type": "code",
   "execution_count": 9,
   "metadata": {},
   "outputs": [],
   "source": [
    "test_predictions = model.predict(test_features)"
   ]
  },
  {
   "cell_type": "code",
   "execution_count": 10,
   "metadata": {},
   "outputs": [
    {
     "data": {
      "image/png": "[encoded data removed]",
      "text/plain": [
       "<Figure size 640x480 with 1 Axes>"
      ]
     },
     "metadata": {},
     "output_type": "display_data"
    }
   ],
   "source": [
    "plt.plot(test_labels.to_numpy(), 'o', label='Test Data', alpha=0.5)\n",
    "plt.plot(test_predictions, 'o', label='Predicted Data', alpha=0.5)\n",
    "plt.xlabel('Sample')\n",
    "plt.ylabel('lapTime_ms')\n",
    "plt.legend()\n",
    "plt.show()"
   ]
  },
  {
   "cell_type": "code",
   "execution_count": 11,
   "metadata": {},
   "outputs": [],
   "source": [
    "df_score_raw = pd.read_csv('data/test.csv')"
   ]
  },
  {
   "cell_type": "code",
   "execution_count": 12,
   "metadata": {},
   "outputs": [],
   "source": [
    "df_score = df_score_raw.drop(['id', 'race', 'carNumber'], axis=1)"
   ]
  },
  {
   "cell_type": "code",
   "execution_count": 13,
   "metadata": {},
   "outputs": [],
   "source": [
    "df_score['time'].fillna('NaN', inplace=True)"
   ]
  },
  {
   "cell_type": "code",
   "execution_count": 14,
   "metadata": {},
   "outputs": [],
   "source": [
    "score_predictions = model.predict(df_score)"
   ]
  },
  {
   "cell_type": "code",
   "execution_count": 15,
   "metadata": {},
   "outputs": [
    {
     "data": {
      "text/plain": [
       "array([101635.53491985,  71516.04272989,  99892.11246119, ...,\n",
       "       133075.38069745, 131628.66460789,  86603.76541852])"
      ]
     },
     "execution_count": 15,
     "metadata": {},
     "output_type": "execute_result"
    }
   ],
   "source": [
    "score_predictions"
   ]
  },
  {
   "cell_type": "code",
   "execution_count": 16,
   "metadata": {},
   "outputs": [],
   "source": [
    "df_results = pd.DataFrame(df_score_raw['id'], columns=['id'])"
   ]
  },
  {
   "cell_type": "code",
   "execution_count": 17,
   "metadata": {},
   "outputs": [],
   "source": [
    "df_results['lapTime_ms'] = score_predictions"
   ]
  },
  {
   "cell_type": "code",
   "execution_count": 18,
   "metadata": {},
   "outputs": [
    {
     "data": {
      "text/html": [
       "<div>\n",
       "<style scoped>\n",
       "    .dataframe tbody tr th:only-of-type {\n",
       "        vertical-align: middle;\n",
       "    }\n",
       "\n",
       "    .dataframe tbody tr th {\n",
       "        vertical-align: top;\n",
       "    }\n",
       "\n",
       "    .dataframe thead th {\n",
       "        text-align: right;\n",
       "    }\n",
       "</style>\n",
       "<table border=\"1\" class=\"dataframe\">\n",
       "  <thead>\n",
       "    <tr style=\"text-align: right;\">\n",
       "      <th></th>\n",
       "      <th>id</th>\n",
       "      <th>lapTime_ms</th>\n",
       "    </tr>\n",
       "  </thead>\n",
       "  <tbody>\n",
       "    <tr>\n",
       "      <th>20709</th>\n",
       "      <td>50710</td>\n",
       "      <td>84846.526367</td>\n",
       "    </tr>\n",
       "    <tr>\n",
       "      <th>20710</th>\n",
       "      <td>50711</td>\n",
       "      <td>78840.156799</td>\n",
       "    </tr>\n",
       "    <tr>\n",
       "      <th>20711</th>\n",
       "      <td>50712</td>\n",
       "      <td>133075.380697</td>\n",
       "    </tr>\n",
       "    <tr>\n",
       "      <th>20712</th>\n",
       "      <td>50713</td>\n",
       "      <td>131628.664608</td>\n",
       "    </tr>\n",
       "    <tr>\n",
       "      <th>20713</th>\n",
       "      <td>50714</td>\n",
       "      <td>86603.765419</td>\n",
       "    </tr>\n",
       "  </tbody>\n",
       "</table>\n",
       "</div>"
      ],
      "text/plain": [
       "          id     lapTime_ms\n",
       "20709  50710   84846.526367\n",
       "20710  50711   78840.156799\n",
       "20711  50712  133075.380697\n",
       "20712  50713  131628.664608\n",
       "20713  50714   86603.765419"
      ]
     },
     "execution_count": 18,
     "metadata": {},
     "output_type": "execute_result"
    }
   ],
   "source": [
    "df_results.tail()"
   ]
  },
  {
   "cell_type": "code",
   "execution_count": 19,
   "metadata": {},
   "outputs": [],
   "source": [
    "df_results.to_csv('results/results.csv', index=False)"
   ]
  }
 ],
 "metadata": {
  "kernelspec": {
   "display_name": "Python 3",
   "language": "python",
   "name": "python3"
  },
  "language_info": {
   "codemirror_mode": {
    "name": "ipython",
    "version": 3
   },
   "file_extension": ".py",
   "mimetype": "text/x-python",
   "name": "python",
   "nbconvert_exporter": "python",
   "pygments_lexer": "ipython3",
   "version": "3.11.2"
  }
 },
 "nbformat": 4,
 "nbformat_minor": 2
}
