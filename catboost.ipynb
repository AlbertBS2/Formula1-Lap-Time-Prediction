{
 "cells": [
  {
   "cell_type": "code",
   "execution_count": 1,
   "metadata": {},
   "outputs": [],
   "source": [
    "import pandas as pd\n",
    "import numpy as np\n",
    "import matplotlib.pyplot as plt\n",
    "from feature_eng import preprocess\n",
    "from catboost import CatBoostRegressor\n",
    "from sklearn.model_selection import train_test_split, RandomizedSearchCV"
   ]
  },
  {
   "cell_type": "markdown",
   "metadata": {},
   "source": [
    "### Load the dataset"
   ]
  },
  {
   "cell_type": "code",
   "execution_count": 2,
   "metadata": {},
   "outputs": [],
   "source": [
    "dataset = pd.read_csv('data/train.csv')"
   ]
  },
  {
   "cell_type": "markdown",
   "metadata": {},
   "source": [
    "### Preprocess the dataset"
   ]
  },
  {
   "cell_type": "code",
   "execution_count": 3,
   "metadata": {},
   "outputs": [],
   "source": [
    "dataset = preprocess(dataset)"
   ]
  },
  {
   "cell_type": "markdown",
   "metadata": {},
   "source": [
    "### Split the dataset"
   ]
  },
  {
   "cell_type": "code",
   "execution_count": 4,
   "metadata": {},
   "outputs": [],
   "source": [
    "# Separate the features and the target\n",
    "X = dataset.drop('lapTime_ms', axis=1)\n",
    "y = dataset['lapTime_ms']\n",
    "\n",
    "# Split the dataset into train and test data\n",
    "X_train, X_test, y_train, y_test = train_test_split(X, y, test_size=0.2, random_state=42)"
   ]
  },
  {
   "cell_type": "code",
   "execution_count": 5,
   "metadata": {},
   "outputs": [],
   "source": [
    "cat_features = ['date', 'time', 'circuit', 'driver', 'constructor', 'pitStop', 'last_lap', 'first_lap', 'type', 'direction', 'location', 'country']"
   ]
  },
  {
   "cell_type": "markdown",
   "metadata": {},
   "source": [
    "### Define the model"
   ]
  },
  {
   "cell_type": "code",
   "execution_count": 6,
   "metadata": {},
   "outputs": [],
   "source": [
    "model = CatBoostRegressor(\n",
    "    cat_features=cat_features,\n",
    "    loss_function='RMSE',\n",
    "    random_seed=42\n",
    ")"
   ]
  },
  {
   "cell_type": "markdown",
   "metadata": {},
   "source": [
    "### Find optimal hyperparameters"
   ]
  },
  {
   "cell_type": "code",
   "execution_count": 7,
   "metadata": {},
   "outputs": [],
   "source": [
    "# Define the parameter grid\n",
    "param_grid = {\n",
    "    'iterations': [500, 1000, 1500],        # number of trees\n",
    "    'learning_rate': [0.01, 0.05, 0.1],     # step size of each iteration\n",
    "    'depth': [6, 8, 10]                     # depth of each tree\n",
    "}"
   ]
  },
  {
   "cell_type": "code",
   "execution_count": 9,
   "metadata": {},
   "outputs": [
    {
     "name": "stdout",
     "output_type": "stream",
     "text": [
      "Fitting 2 folds for each of 5 candidates, totalling 10 fits\n",
      "0:\tlearn: 61408.2707073\ttotal: 171ms\tremaining: 4m 16s\n",
      "200:\tlearn: 10981.7324550\ttotal: 7.67s\tremaining: 49.6s\n",
      "400:\tlearn: 7068.2757277\ttotal: 15.1s\tremaining: 41.3s\n",
      "600:\tlearn: 5801.9597306\ttotal: 22.4s\tremaining: 33.5s\n",
      "800:\tlearn: 5226.8610609\ttotal: 29.9s\tremaining: 26.1s\n",
      "1000:\tlearn: 4871.0829771\ttotal: 37.4s\tremaining: 18.6s\n",
      "1200:\tlearn: 4630.0447979\ttotal: 44.7s\tremaining: 11.1s\n",
      "1400:\tlearn: 4447.5481905\ttotal: 52.1s\tremaining: 3.68s\n",
      "1499:\tlearn: 4374.3132618\ttotal: 55.8s\tremaining: 0us\n",
      "Best parameters found:  {'learning_rate': 0.1, 'iterations': 1500, 'depth': 6}\n"
     ]
    }
   ],
   "source": [
    "# Find the optimal parameters\n",
    "random_search = RandomizedSearchCV(\n",
    "    model,\n",
    "    param_distributions=param_grid,\n",
    "    n_iter=5,\n",
    "    cv=2,\n",
    "    scoring='neg_root_mean_squared_error',\n",
    "    n_jobs=-1,\n",
    "    verbose=1,\n",
    "    random_state=42\n",
    ")\n",
    "\n",
    "random_search.fit(X_train, y_train, verbose=200)\n",
    "\n",
    "print(\"Best parameters found: \", random_search.best_params_)"
   ]
  },
  {
   "cell_type": "markdown",
   "metadata": {},
   "source": [
    "### Save the model"
   ]
  },
  {
   "cell_type": "code",
   "execution_count": 10,
   "metadata": {},
   "outputs": [],
   "source": [
    "model = random_search.best_estimator_\n",
    "model.save_model('models/cb_model.cbm')"
   ]
  }
 ],
 "metadata": {
  "kernelspec": {
   "display_name": "Python 3",
   "language": "python",
   "name": "python3"
  },
  "language_info": {
   "codemirror_mode": {
    "name": "ipython",
    "version": 3
   },
   "file_extension": ".py",
   "mimetype": "text/x-python",
   "name": "python",
   "nbconvert_exporter": "python",
   "pygments_lexer": "ipython3",
   "version": "3.12.9"
  }
 },
 "nbformat": 4,
 "nbformat_minor": 2
}
